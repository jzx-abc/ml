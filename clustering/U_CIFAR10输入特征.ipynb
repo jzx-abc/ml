{
 "cells": [
  {
   "cell_type": "code",
   "execution_count": 1,
   "id": "b1995c87-24a3-4ba1-8aaa-dcd9044b3ce5",
   "metadata": {},
   "outputs": [],
   "source": [
    "import torch\n",
    "import torchvision\n",
    "import torchvision.transforms as transforms"
   ]
  },
  {
   "cell_type": "code",
   "execution_count": 2,
   "id": "cd020c8e-ecb5-4e82-8f13-f7705764cb87",
   "metadata": {},
   "outputs": [
    {
     "name": "stdout",
     "output_type": "stream",
     "text": [
      "Files already downloaded and verified\n",
      "Files already downloaded and verified\n"
     ]
    }
   ],
   "source": [
    "# 加载CIFAR10数据集\n",
    "transform = transforms.Compose([transforms.ToTensor(),])\n",
    "\n",
    "# train_data有50000张图像\n",
    "# test_data有10000张图像\n",
    "train_data = torchvision.datasets.CIFAR10(\n",
    "    root='./data', train=True, download=True, transform=transform\n",
    ")\n",
    "test_data = torchvision.datasets.CIFAR10(\n",
    "    root='./data', train=False, download=True, transform=transform\n",
    ")\n",
    "\n",
    "dataset = torch.utils.data.ConcatDataset([train_data, test_data])\n",
    "\n",
    "dataloader = torch.utils.data.DataLoader(\n",
    "    dataset, batch_size=64, shuffle=True, num_workers=2\n",
    ")"
   ]
  },
  {
   "cell_type": "code",
   "execution_count": 8,
   "id": "4fcd7474-0b7d-4c04-a601-3f30e8ccf0f3",
   "metadata": {},
   "outputs": [
    {
     "name": "stderr",
     "output_type": "stream",
     "text": [
      "E:\\anaconda3\\lib\\site-packages\\torchvision\\models\\_utils.py:223: UserWarning: Arguments other than a weight enum or `None` for 'weights' are deprecated since 0.13 and will be removed in 0.15. The current behavior is equivalent to passing `weights=ResNet34_Weights.IMAGENET1K_V1`. You can also use `weights=ResNet34_Weights.DEFAULT` to get the most up-to-date weights.\n",
      "  warnings.warn(msg)\n"
     ]
    }
   ],
   "source": [
    "# 加载预训练模型ResNet-18\n",
    "resnet = torchvision.models.resnet34(pretrained=True)\n",
    "\n",
    "resnet.eval()\n",
    "# 提取特征\n",
    "features = []\n",
    "labels = []\n",
    "with torch.no_grad():\n",
    "    for data in dataloader:\n",
    "        images, targets = data\n",
    "        outputs = resnet(images)\n",
    "        features.append(outputs.squeeze())\n",
    "        labels.append(targets)\n",
    "        \n",
    "features = torch.cat(features)\n",
    "labels = torch.cat(labels)"
   ]
  },
  {
   "cell_type": "code",
   "execution_count": 9,
   "id": "3d21985b-65c1-4cab-8f08-90adc55eb4cf",
   "metadata": {},
   "outputs": [
    {
     "data": {
      "text/plain": [
       "torch.Size([60000, 1000])"
      ]
     },
     "execution_count": 9,
     "metadata": {},
     "output_type": "execute_result"
    }
   ],
   "source": [
    "features.shape"
   ]
  },
  {
   "cell_type": "code",
   "execution_count": 10,
   "id": "d75a20f3-17df-4943-bdbc-9b3dc82f6a2d",
   "metadata": {},
   "outputs": [
    {
     "data": {
      "text/plain": [
       "torch.Size([60000])"
      ]
     },
     "execution_count": 10,
     "metadata": {},
     "output_type": "execute_result"
    }
   ],
   "source": [
    "labels.shape"
   ]
  },
  {
   "cell_type": "code",
   "execution_count": 11,
   "id": "1400ff61-a2dd-4b82-9941-5f4c5819ed99",
   "metadata": {},
   "outputs": [],
   "source": [
    "torch.save(features, 'cifar10_features.pt')\n",
    "torch.save(labels, 'cifar10_labels.pt')"
   ]
  },
  {
   "cell_type": "code",
   "execution_count": null,
   "id": "bbe9f404-6ff6-4cf8-b191-4a5e7512c090",
   "metadata": {},
   "outputs": [],
   "source": []
  },
  {
   "cell_type": "code",
   "execution_count": null,
   "id": "fdc4c5de-e498-4534-b150-17be65e91bfa",
   "metadata": {},
   "outputs": [],
   "source": []
  },
  {
   "cell_type": "code",
   "execution_count": null,
   "id": "cef7a2c7-4fd5-4e31-8b70-7d02e723fc67",
   "metadata": {},
   "outputs": [],
   "source": []
  }
 ],
 "metadata": {
  "kernelspec": {
   "display_name": "Python 3 (ipykernel)",
   "language": "python",
   "name": "python3"
  },
  "language_info": {
   "codemirror_mode": {
    "name": "ipython",
    "version": 3
   },
   "file_extension": ".py",
   "mimetype": "text/x-python",
   "name": "python",
   "nbconvert_exporter": "python",
   "pygments_lexer": "ipython3",
   "version": "3.9.12"
  }
 },
 "nbformat": 4,
 "nbformat_minor": 5
}
